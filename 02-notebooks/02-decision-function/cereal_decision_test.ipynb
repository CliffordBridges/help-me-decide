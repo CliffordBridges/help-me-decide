{
 "cells": [
  {
   "cell_type": "code",
   "execution_count": 1,
   "metadata": {},
   "outputs": [],
   "source": [
    "import pickle\n",
    "import os\n",
    "import sys\n",
    "src_dir = os.path.join(os.getcwd(), '..', '..', '03-src')\n",
    "sys.path.append(src_dir)\n",
    "\n",
    "import decisionclass.decision_functions as hmd\n",
    "\n",
    "%matplotlib inline"
   ]
  },
  {
   "cell_type": "code",
   "execution_count": 2,
   "metadata": {},
   "outputs": [
    {
     "data": {
      "text/plain": [
       "<function BufferedReader.close>"
      ]
     },
     "execution_count": 2,
     "metadata": {},
     "output_type": "execute_result"
    }
   ],
   "source": [
    "f = open('../../01-data/03-decisions/cereal_decision.pkl', 'rb')\n",
    "cereal_decision = pickle.load(f)\n",
    "f.close"
   ]
  },
  {
   "cell_type": "code",
   "execution_count": null,
   "metadata": {},
   "outputs": [],
   "source": [
    "keto_feature_list = ['fat_per_cal', 'low_net_carbs', 'protein_per_cal']\n",
    "low_fat_feature_list = ['low_fat_per_cal']"
   ]
  },
  {
   "cell_type": "code",
   "execution_count": 5,
   "metadata": {
    "collapsed": true
   },
   "outputs": [
    {
     "name": "stdout",
     "output_type": "stream",
     "text": [
      "['low_sodium_per_cal', 'low_sugars_per_cal', 'protein_per_cal']\n",
      "Imagine you have 10 points to assign to your 3 features.\n",
      "\n",
      "Assign a nonnegative whole number to each of the following features making sure the total sums to 10.\n",
      "You have 10 points left,\n",
      "and 3 more features to value.\n",
      "\n",
      "How much do you value low_sodium_per_cal?\t3\n",
      "You have 7 points left,\n",
      "and 2 more features to value.\n",
      "\n",
      "How much do you value low_sugars_per_cal?\t5\n",
      "You have 2 points left,\n",
      "and 1 more features to value.\n",
      "\n",
      "How much do you value protein_per_cal?\t2\n",
      "Puffed Rice meets 93.0% of your desired features.\n",
      "Quaker Oat Squares meets 93.0% of your desired features.\n",
      "Shredded Wheat meets 91.0% of your desired features.\n",
      "Shredded Wheat 'n'Bran meets 90.0% of your desired features.\n",
      "Rice Krispies meets 87.0% of your desired features.\n",
      "Product 19 meets 84.0% of your desired features.\n",
      "Lucky Charms meets 83.0% of your desired features.\n",
      "All-Bran with Extra Fiber meets 82.0% of your desired features.\n",
      "Cracklin' Oat Bran meets 82.0% of your desired features.\n",
      "Cap'n'Crunch meets 72.0% of your desired features.\n",
      "Smacks meets 71.0% of your desired features.\n",
      "Grape-Nuts meets 70.0% of your desired features.\n",
      "Frosted Flakes meets 66.0% of your desired features.\n",
      "Nutri-Grain Almond-Raisin meets 66.0% of your desired features.\n",
      "Special K meets 66.0% of your desired features.\n",
      "100% Natural Bran meets 64.0% of your desired features.\n",
      "Grape Nuts Flakes meets 64.0% of your desired features.\n",
      "Raisin Nut Bran meets 64.0% of your desired features.\n",
      "Puffed Wheat meets 61.0% of your desired features.\n",
      "Total Raisin Bran meets 60.0% of your desired features.\n",
      "Wheat Chex meets 60.0% of your desired features.\n",
      "100% Bran meets 59.0% of your desired features.\n",
      "Golden Grahams meets 59.0% of your desired features.\n",
      "Kix meets 59.0% of your desired features.\n",
      "Strawberry Fruit Wheats meets 58.0% of your desired features.\n",
      "Trix meets 58.0% of your desired features.\n",
      "Maypo meets 57.0% of your desired features.\n",
      "Cream of Wheat (Quick) meets 56.0% of your desired features.\n",
      "Cinnamon Toast Crunch meets 55.0% of your desired features.\n",
      "Count Chocula meets 55.0% of your desired features.\n",
      "Muesli Raisins; Dates; & Almonds meets 54.0% of your desired features.\n",
      "Nut&Honey Crunch meets 54.0% of your desired features.\n",
      "Raisin Squares meets 54.0% of your desired features.\n",
      "Total Whole Grain meets 54.0% of your desired features.\n",
      "Just Right Crunchy  Nuggets meets 53.0% of your desired features.\n",
      "Just Right Fruit & Nut meets 53.0% of your desired features.\n",
      "Honey-comb meets 52.0% of your desired features.\n",
      "Apple Jacks meets 51.0% of your desired features.\n",
      "Cocoa Puffs meets 51.0% of your desired features.\n",
      "Corn Chex meets 51.0% of your desired features.\n",
      "Crispy Wheat & Raisins meets 51.0% of your desired features.\n",
      "Bran Chex meets 50.0% of your desired features.\n",
      "Rice Chex meets 50.0% of your desired features.\n",
      "Muesli Raisins; Peaches; & Pecans meets 49.0% of your desired features.\n",
      "Post Nat. Raisin Bran meets 49.0% of your desired features.\n",
      "Raisin Bran meets 49.0% of your desired features.\n",
      "Nutri-grain Wheat meets 48.0% of your desired features.\n",
      "All-Bran meets 47.0% of your desired features.\n",
      "Frosted Mini-Wheats meets 47.0% of your desired features.\n",
      "Mueslix Crispy Blend meets 44.0% of your desired features.\n",
      "Multi-Grain Cheerios meets 44.0% of your desired features.\n",
      "Basic 4 meets 43.0% of your desired features.\n",
      "Wheaties meets 43.0% of your desired features.\n",
      "Total Corn Flakes meets 40.0% of your desired features.\n",
      "Cheerios meets 39.0% of your desired features.\n",
      "Crispix meets 39.0% of your desired features.\n",
      "Quaker Oatmeal meets 37.0% of your desired features.\n",
      "Corn Flakes meets 36.0% of your desired features.\n",
      "Honey Graham Ohs meets 36.0% of your desired features.\n",
      "Fruit & Fibre Dates; Walnuts; and Oats meets 35.0% of your desired features.\n",
      "Double Chex meets 34.0% of your desired features.\n",
      "Life meets 33.0% of your desired features.\n",
      "Oatmeal Raisin Crisp meets 33.0% of your desired features.\n",
      "Shredded Wheat spoon size meets 33.0% of your desired features.\n",
      "Fruitful Bran meets 32.0% of your desired features.\n",
      "Great Grains Pecan meets 32.0% of your desired features.\n",
      "Honey Nut Cheerios meets 32.0% of your desired features.\n",
      "Triples meets 32.0% of your desired features.\n",
      "Apple Cinnamon Cheerios meets 31.0% of your desired features.\n",
      "Fruity Pebbles meets 31.0% of your desired features.\n",
      "Bran Flakes meets 30.0% of your desired features.\n",
      "Froot Loops meets 30.0% of your desired features.\n",
      "Golden Crisp meets 29.0% of your desired features.\n",
      "Clusters meets 26.0% of your desired features.\n",
      "Corn Pops meets 26.0% of your desired features.\n"
     ]
    }
   ],
   "source": [
    "print(cereal_decision.feature_list)\n",
    "important_features = ['low_sugars_per_cal', 'low_sodium_per_cal', 'protein_per_cal']\n",
    "cereal_decision.feature_list_keep(important_features)\n",
    "cereal_decision.print_results()"
   ]
  },
  {
   "cell_type": "code",
   "execution_count": 8,
   "metadata": {
    "collapsed": true
   },
   "outputs": [
    {
     "name": "stdout",
     "output_type": "stream",
     "text": [
      "All-Bran with Extra Fiber meets 100.0% of your desired features.\n",
      "Cracklin' Oat Bran meets 100.0% of your desired features.\n",
      "Product 19 meets 100.0% of your desired features.\n",
      "Puffed Rice meets 100.0% of your desired features.\n",
      "Rice Krispies meets 100.0% of your desired features.\n",
      "Shredded Wheat meets 100.0% of your desired features.\n",
      "Shredded Wheat 'n'Bran meets 100.0% of your desired features.\n",
      "Cap'n'Crunch meets 94.0% of your desired features.\n",
      "Quaker Oat Squares meets 94.0% of your desired features.\n",
      "Raisin Squares meets 88.0% of your desired features.\n",
      "Corn Chex meets 87.0% of your desired features.\n",
      "Nutri-Grain Almond-Raisin meets 85.0% of your desired features.\n",
      "Cocoa Puffs meets 82.0% of your desired features.\n",
      "Cream of Wheat (Quick) meets 82.0% of your desired features.\n",
      "Grape Nuts Flakes meets 82.0% of your desired features.\n",
      "Just Right Fruit & Nut meets 82.0% of your desired features.\n",
      "Rice Chex meets 82.0% of your desired features.\n",
      "Smacks meets 82.0% of your desired features.\n",
      "Strawberry Fruit Wheats meets 82.0% of your desired features.\n",
      "Total Whole Grain meets 82.0% of your desired features.\n",
      "Lucky Charms meets 80.0% of your desired features.\n",
      "Post Nat. Raisin Bran meets 80.0% of your desired features.\n",
      "Total Raisin Bran meets 80.0% of your desired features.\n",
      "Trix meets 80.0% of your desired features.\n",
      "Wheat Chex meets 80.0% of your desired features.\n",
      "Grape-Nuts meets 78.0% of your desired features.\n",
      "Crispy Wheat & Raisins meets 67.0% of your desired features.\n",
      "Golden Grahams meets 67.0% of your desired features.\n",
      "Nut&Honey Crunch meets 67.0% of your desired features.\n",
      "Honey-comb meets 64.0% of your desired features.\n",
      "Bran Chex meets 63.0% of your desired features.\n",
      "Special K meets 63.0% of your desired features.\n",
      "Kix meets 60.0% of your desired features.\n",
      "Mueslix Crispy Blend meets 60.0% of your desired features.\n",
      "Puffed Wheat meets 60.0% of your desired features.\n",
      "All-Bran meets 59.0% of your desired features.\n",
      "Apple Jacks meets 59.0% of your desired features.\n",
      "Cinnamon Toast Crunch meets 58.0% of your desired features.\n",
      "Count Chocula meets 58.0% of your desired features.\n",
      "Just Right Crunchy  Nuggets meets 57.0% of your desired features.\n",
      "100% Natural Bran meets 56.0% of your desired features.\n",
      "Basic 4 meets 56.0% of your desired features.\n",
      "Raisin Nut Bran meets 56.0% of your desired features.\n",
      "100% Bran meets 55.0% of your desired features.\n",
      "Frosted Flakes meets 53.0% of your desired features.\n",
      "Wheaties meets 52.0% of your desired features.\n",
      "Maypo meets 51.0% of your desired features.\n",
      "Muesli Raisins; Dates; & Almonds meets 51.0% of your desired features.\n",
      "Cheerios meets 50.0% of your desired features.\n",
      "Multi-Grain Cheerios meets 50.0% of your desired features.\n",
      "Nutri-grain Wheat meets 49.0% of your desired features.\n",
      "Raisin Bran meets 47.0% of your desired features.\n",
      "Muesli Raisins; Peaches; & Pecans meets 46.0% of your desired features.\n",
      "Golden Crisp meets 45.0% of your desired features.\n",
      "Frosted Mini-Wheats meets 44.0% of your desired features.\n",
      "Great Grains Pecan meets 39.0% of your desired features.\n",
      "Honey Graham Ohs meets 39.0% of your desired features.\n",
      "Bran Flakes meets 33.0% of your desired features.\n",
      "Crispix meets 33.0% of your desired features.\n",
      "Froot Loops meets 33.0% of your desired features.\n",
      "Fruit & Fibre Dates; Walnuts; and Oats meets 33.0% of your desired features.\n",
      "Honey Nut Cheerios meets 33.0% of your desired features.\n",
      "Quaker Oatmeal meets 33.0% of your desired features.\n",
      "Total Corn Flakes meets 33.0% of your desired features.\n",
      "Corn Flakes meets 27.0% of your desired features.\n",
      "Fruitful Bran meets 27.0% of your desired features.\n",
      "Life meets 27.0% of your desired features.\n",
      "Triples meets 27.0% of your desired features.\n",
      "Oatmeal Raisin Crisp meets 22.0% of your desired features.\n",
      "Clusters meets 21.0% of your desired features.\n",
      "Corn Pops meets 21.0% of your desired features.\n",
      "Double Chex meets 21.0% of your desired features.\n",
      "Apple Cinnamon Cheerios meets 15.0% of your desired features.\n",
      "Shredded Wheat spoon size meets 9.0% of your desired features.\n",
      "Fruity Pebbles meets 0.0% of your desired features.\n"
     ]
    }
   ],
   "source": [
    "new_features = ['sugars_per_cal', 'sodium_per_cal', 'low_protein_per_cal']\n",
    "cereal_decision.feature_list_keep(['low_sugars_per_cal'])\n",
    "cereal_decision.print_results()"
   ]
  },
  {
   "cell_type": "code",
   "execution_count": 13,
   "metadata": {},
   "outputs": [
    {
     "data": {
      "text/html": [
       "<div>\n",
       "<style scoped>\n",
       "    .dataframe tbody tr th:only-of-type {\n",
       "        vertical-align: middle;\n",
       "    }\n",
       "\n",
       "    .dataframe tbody tr th {\n",
       "        vertical-align: top;\n",
       "    }\n",
       "\n",
       "    .dataframe thead th {\n",
       "        text-align: right;\n",
       "    }\n",
       "</style>\n",
       "<table border=\"1\" class=\"dataframe\">\n",
       "  <thead>\n",
       "    <tr style=\"text-align: right;\">\n",
       "      <th></th>\n",
       "      <th>100% Bran</th>\n",
       "      <th>100% Natural Bran</th>\n",
       "      <th>All-Bran</th>\n",
       "      <th>All-Bran with Extra Fiber</th>\n",
       "      <th>Apple Cinnamon Cheerios</th>\n",
       "      <th>Apple Jacks</th>\n",
       "      <th>Basic 4</th>\n",
       "      <th>Bran Chex</th>\n",
       "      <th>Bran Flakes</th>\n",
       "      <th>Cap'n'Crunch</th>\n",
       "      <th>...</th>\n",
       "      <th>Strawberry Fruit Wheats</th>\n",
       "      <th>Total Corn Flakes</th>\n",
       "      <th>Total Raisin Bran</th>\n",
       "      <th>Total Whole Grain</th>\n",
       "      <th>Triples</th>\n",
       "      <th>Trix</th>\n",
       "      <th>Wheat Chex</th>\n",
       "      <th>Wheaties</th>\n",
       "      <th>percent</th>\n",
       "      <th>value</th>\n",
       "    </tr>\n",
       "  </thead>\n",
       "  <tbody>\n",
       "    <tr>\n",
       "      <th>low_sugars_per_cal</th>\n",
       "      <td>5.505618</td>\n",
       "      <td>5.555556</td>\n",
       "      <td>5.884774</td>\n",
       "      <td>10.0</td>\n",
       "      <td>1.515152</td>\n",
       "      <td>5.897436</td>\n",
       "      <td>5.555556</td>\n",
       "      <td>6.296296</td>\n",
       "      <td>3.333333</td>\n",
       "      <td>9.393939</td>\n",
       "      <td>...</td>\n",
       "      <td>8.181818</td>\n",
       "      <td>3.333333</td>\n",
       "      <td>8.0</td>\n",
       "      <td>8.181818</td>\n",
       "      <td>2.727273</td>\n",
       "      <td>8.0</td>\n",
       "      <td>8.0</td>\n",
       "      <td>5.151515</td>\n",
       "      <td>1</td>\n",
       "      <td>1</td>\n",
       "    </tr>\n",
       "  </tbody>\n",
       "</table>\n",
       "<p>1 rows × 77 columns</p>\n",
       "</div>"
      ],
      "text/plain": [
       "                    100% Bran  100% Natural Bran  All-Bran  \\\n",
       "low_sugars_per_cal   5.505618           5.555556  5.884774   \n",
       "\n",
       "                    All-Bran with Extra Fiber  Apple Cinnamon Cheerios  \\\n",
       "low_sugars_per_cal                       10.0                 1.515152   \n",
       "\n",
       "                    Apple Jacks   Basic 4  Bran Chex  Bran Flakes  \\\n",
       "low_sugars_per_cal     5.897436  5.555556   6.296296     3.333333   \n",
       "\n",
       "                    Cap'n'Crunch  ...  Strawberry Fruit Wheats  \\\n",
       "low_sugars_per_cal      9.393939  ...                 8.181818   \n",
       "\n",
       "                    Total Corn Flakes  Total Raisin Bran  Total Whole Grain  \\\n",
       "low_sugars_per_cal           3.333333                8.0           8.181818   \n",
       "\n",
       "                     Triples  Trix  Wheat Chex  Wheaties  percent  value  \n",
       "low_sugars_per_cal  2.727273   8.0         8.0  5.151515        1      1  \n",
       "\n",
       "[1 rows x 77 columns]"
      ]
     },
     "execution_count": 13,
     "metadata": {},
     "output_type": "execute_result"
    }
   ],
   "source": [
    "cereal_decision.option_value_df"
   ]
  },
  {
   "cell_type": "code",
   "execution_count": 14,
   "metadata": {},
   "outputs": [
    {
     "data": {
      "text/plain": [
       "<function BufferedReader.close>"
      ]
     },
     "execution_count": 14,
     "metadata": {},
     "output_type": "execute_result"
    }
   ],
   "source": [
    "f = open('../../01-data/03-decisions/cereal_decision.pkl', 'rb')\n",
    "cereal_decision = pickle.load(f)\n",
    "f.close"
   ]
  },
  {
   "cell_type": "code",
   "execution_count": 17,
   "metadata": {},
   "outputs": [
    {
     "name": "stdout",
     "output_type": "stream",
     "text": [
      "['sodium_per_cal', 'cal_per_cup', 'low_fat_per_cal', 'fiber_per_cal', 'low_sodium_per_cal', 'carbo', 'cups', 'fiber', 'low_sugars_per_cal', 'carbo_per_cal', 'low_cal_per_cup', 'low_net_carbs', 'fat', 'net_carbs', 'calories', 'low_protein_per_cal', 'sugars_per_cal', 'potass', 'sugars', 'low_fiber_per_cal', 'protein_per_cal', 'sodium', 'protein', 'low_carbo_per_cal', 'fat_per_cal']\n"
     ]
    }
   ],
   "source": [
    "print(cereal_decision.feature_list)"
   ]
  },
  {
   "cell_type": "code",
   "execution_count": null,
   "metadata": {},
   "outputs": [],
   "source": []
  }
 ],
 "metadata": {
  "kernelspec": {
   "display_name": "Python 3",
   "language": "python",
   "name": "python3"
  },
  "language_info": {
   "codemirror_mode": {
    "name": "ipython",
    "version": 3
   },
   "file_extension": ".py",
   "mimetype": "text/x-python",
   "name": "python",
   "nbconvert_exporter": "python",
   "pygments_lexer": "ipython3",
   "version": "3.7.3"
  }
 },
 "nbformat": 4,
 "nbformat_minor": 2
}
