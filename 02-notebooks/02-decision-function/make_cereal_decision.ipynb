{
 "cells": [
  {
   "cell_type": "code",
   "execution_count": 1,
   "metadata": {},
   "outputs": [],
   "source": [
    "import os\n",
    "import sys\n",
    "src_dir = os.path.join(os.getcwd(), '..', '..', '03-src')\n",
    "sys.path.append(src_dir)\n",
    "\n",
    "import decisionclass.decision_functions as hmd\n",
    "import pandas as pd\n",
    "import pickle\n",
    "%matplotlib inline"
   ]
  },
  {
   "cell_type": "code",
   "execution_count": 2,
   "metadata": {
    "scrolled": false
   },
   "outputs": [],
   "source": [
    "cereal_df = pd.read_pickle('../../01-data/02-decision-basis/cereal_decision_df.pkl')\n",
    "cereal_df = cereal_df.set_index('name')\n",
    "# cereal_df.head()"
   ]
  },
  {
   "cell_type": "code",
   "execution_count": 3,
   "metadata": {},
   "outputs": [
    {
     "name": "stdout",
     "output_type": "stream",
     "text": [
      "Imagine you have 80 points to assign to your 25 features.\n",
      "\n",
      "Assign a nonnegative whole number to each of the following features making sure the total sums to 80.\n",
      "You have 80 points left,\n",
      "and 25 more features to value.\n",
      "\n",
      "How much do you value sodium_per_cal?\t3\n",
      "You have 77 points left,\n",
      "and 24 more features to value.\n",
      "\n",
      "How much do you value cal_per_cup?\t3\n",
      "You have 74 points left,\n",
      "and 23 more features to value.\n",
      "\n",
      "How much do you value low_fat_per_cal?\t3\n",
      "You have 71 points left,\n",
      "and 22 more features to value.\n",
      "\n",
      "How much do you value fiber_per_cal?\t3\n",
      "You have 68 points left,\n",
      "and 21 more features to value.\n",
      "\n",
      "How much do you value low_sodium_per_cal?\t3\n",
      "You have 65 points left,\n",
      "and 20 more features to value.\n",
      "\n",
      "How much do you value carbo?\t3\n",
      "You have 62 points left,\n",
      "and 19 more features to value.\n",
      "\n",
      "How much do you value cups?\t3\n",
      "You have 59 points left,\n",
      "and 18 more features to value.\n",
      "\n",
      "How much do you value fiber?\t3\n",
      "You have 56 points left,\n",
      "and 17 more features to value.\n",
      "\n",
      "How much do you value low_sugars_per_cal?\t3\n",
      "You have 53 points left,\n",
      "and 16 more features to value.\n",
      "\n",
      "How much do you value carbo_per_cal?\t3\n",
      "You have 50 points left,\n",
      "and 15 more features to value.\n",
      "\n",
      "How much do you value low_cal_per_cup?\t3\n",
      "You have 47 points left,\n",
      "and 14 more features to value.\n",
      "\n",
      "How much do you value low_net_carbs?\t3\n",
      "You have 44 points left,\n",
      "and 13 more features to value.\n",
      "\n",
      "How much do you value fat?\t3\n",
      "You have 41 points left,\n",
      "and 12 more features to value.\n",
      "\n",
      "How much do you value net_carbs?\t3\n",
      "You have 38 points left,\n",
      "and 11 more features to value.\n",
      "\n",
      "How much do you value calories?\t3\n",
      "You have 35 points left,\n",
      "and 10 more features to value.\n",
      "\n",
      "How much do you value low_protein_per_cal?\t3\n",
      "You have 32 points left,\n",
      "and 9 more features to value.\n",
      "\n",
      "How much do you value sugars_per_cal?\t3\n",
      "You have 29 points left,\n",
      "and 8 more features to value.\n",
      "\n",
      "How much do you value potass?\t3\n",
      "You have 26 points left,\n",
      "and 7 more features to value.\n",
      "\n",
      "How much do you value sugars?\t3\n",
      "You have 23 points left,\n",
      "and 6 more features to value.\n",
      "\n",
      "How much do you value low_fiber_per_cal?\t3\n",
      "You have 20 points left,\n",
      "and 5 more features to value.\n",
      "\n",
      "How much do you value protein_per_cal?\t3\n",
      "You have 17 points left,\n",
      "and 4 more features to value.\n",
      "\n",
      "How much do you value sodium?\t3\n",
      "You have 14 points left,\n",
      "and 3 more features to value.\n",
      "\n",
      "How much do you value protein?\t3\n",
      "You have 11 points left,\n",
      "and 2 more features to value.\n",
      "\n",
      "How much do you value low_carbo_per_cal?\t3\n",
      "You have 8 points left,\n",
      "and 1 more features to value.\n",
      "\n",
      "How much do you value fat_per_cal?\t3\n",
      "New feature dict:\n",
      " {'sodium_per_cal': {'value': 3, 'percent': 0.0375}, 'cal_per_cup': {'value': 3, 'percent': 0.0375}, 'low_fat_per_cal': {'value': 3, 'percent': 0.0375}, 'fiber_per_cal': {'value': 3, 'percent': 0.0375}, 'low_sodium_per_cal': {'value': 3, 'percent': 0.0375}, 'carbo': {'value': 3, 'percent': 0.0375}, 'cups': {'value': 3, 'percent': 0.0375}, 'fiber': {'value': 3, 'percent': 0.0375}, 'low_sugars_per_cal': {'value': 3, 'percent': 0.0375}, 'carbo_per_cal': {'value': 3, 'percent': 0.0375}, 'low_cal_per_cup': {'value': 3, 'percent': 0.0375}, 'low_net_carbs': {'value': 3, 'percent': 0.0375}, 'fat': {'value': 3, 'percent': 0.0375}, 'net_carbs': {'value': 3, 'percent': 0.0375}, 'calories': {'value': 3, 'percent': 0.0375}, 'low_protein_per_cal': {'value': 3, 'percent': 0.0375}, 'sugars_per_cal': {'value': 3, 'percent': 0.0375}, 'potass': {'value': 3, 'percent': 0.0375}, 'sugars': {'value': 3, 'percent': 0.0375}, 'low_fiber_per_cal': {'value': 3, 'percent': 0.0375}, 'protein_per_cal': {'value': 3, 'percent': 0.0375}, 'sodium': {'value': 3, 'percent': 0.0375}, 'protein': {'value': 3, 'percent': 0.0375}, 'low_carbo_per_cal': {'value': 3, 'percent': 0.0375}, 'fat_per_cal': {'value': 3, 'percent': 0.0375}}\n"
     ]
    }
   ],
   "source": [
    "cereal_decision = hmd.Decision()\n",
    "cereal_decision.feature_list = list(cereal_df.columns).copy()\n",
    "cereal_decision.option_list = list(cereal_df.index).copy()\n",
    "cereal_decision.option_dict = cereal_df.to_dict(orient='index')\n",
    "cereal_decision.update_feature_dict('null')"
   ]
  },
  {
   "cell_type": "code",
   "execution_count": 5,
   "metadata": {},
   "outputs": [],
   "source": [
    "cereal_decision.update_option_value_df()\n",
    "# cereal_decision.print_results()"
   ]
  },
  {
   "cell_type": "code",
   "execution_count": 6,
   "metadata": {},
   "outputs": [],
   "source": [
    "f = open('../../01-data/03-decisions/cereal_decision.pkl', 'wb')\n",
    "pickle.dump(cereal_decision, f)\n",
    "f.close()\n",
    "# f = open(\"my_pickle\", \"rb\");cereal_decision = pickle.load(f);f.close()"
   ]
  },
  {
   "cell_type": "code",
   "execution_count": null,
   "metadata": {},
   "outputs": [],
   "source": []
  }
 ],
 "metadata": {
  "kernelspec": {
   "display_name": "Python 3",
   "language": "python",
   "name": "python3"
  },
  "language_info": {
   "codemirror_mode": {
    "name": "ipython",
    "version": 3
   },
   "file_extension": ".py",
   "mimetype": "text/x-python",
   "name": "python",
   "nbconvert_exporter": "python",
   "pygments_lexer": "ipython3",
   "version": "3.7.3"
  }
 },
 "nbformat": 4,
 "nbformat_minor": 2
}
