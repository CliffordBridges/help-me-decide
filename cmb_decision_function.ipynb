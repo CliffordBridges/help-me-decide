{
 "cells": [
  {
   "cell_type": "code",
   "execution_count": 1,
   "metadata": {},
   "outputs": [],
   "source": [
    "import decision_functions as hmd\n",
    "import pandas as pd\n",
    "from itertools import combinations\n",
    "%matplotlib inline"
   ]
  },
  {
   "cell_type": "code",
   "execution_count": 21,
   "metadata": {},
   "outputs": [],
   "source": [
    "class Decision():\n",
    "    \"\"\"\n",
    "    A class to easily store previous decisions\n",
    "    \"\"\"\n",
    "    def __init__(self):\n",
    "        self.feature_list = hmd.get_feature_list()\n",
    "        self.feature_dict = hmd.set_feature_importance(self.feature_list)\n",
    "        self.option_list = hmd.get_option_list()\n",
    "        self.option_dict = hmd.rate_each_option(self.feature_list, self.option_list)\n",
    "        self.option_value_df = self.update_option_value_df()\n",
    "        \n",
    "    def update_option_value_df(self):\n",
    "        return pd.DataFrame.from_dict(self.option_dict).merge(\n",
    "            pd.DataFrame(self.feature_dict).T, left_index=True, right_index=True)\n",
    "        \n",
    "    def update_option_dict(self, feature=None, option=None):\n",
    "        \"\"\"\n",
    "        If the option is not in the keys, option will be added and function will request user input to rate.\n",
    "        if option is in the keys, option key value pair will be removed.\n",
    "        \n",
    "        Parameters\n",
    "        ----------\n",
    "        feature: str\n",
    "            The feature key that will be added or removed. \n",
    "            If added, will rate all options on this new feature\n",
    "        \n",
    "        option: str\n",
    "            The key that will be added or removed. \n",
    "            If added, will rate all features in this new option\n",
    "        \"\"\"\n",
    "        \n",
    "        if feature != None:\n",
    "            try:\n",
    "                for k in self.option_dict.keys:\n",
    "                    self.option_dict[k].pop(feature)\n",
    "            except:\n",
    "                self.option_dict.update(hmd.rate_each_option([feature], self.option_list))\n",
    "        \n",
    "        elif option != None:\n",
    "            try:\n",
    "                self.option_dict.pop(option)            \n",
    "            except:\n",
    "                self.option_dict.update(hmd.rate_each_option(self.feature_list, [option]))\n",
    "        \n",
    "        print(self.option_dict)\n",
    "        self.update_option_value_df(self)\n",
    "        return\n",
    "    \n",
    "    def update_option_list(self, option):\n",
    "        \"\"\"\n",
    "        If option is not in the list, option will be added to list\n",
    "        If option is in list, option will be removed.\n",
    "        \n",
    "        Parameters\n",
    "        ----------\n",
    "        option: str\n",
    "            the feature that will be added or removed\n",
    "        \"\"\"\n",
    "        try:\n",
    "            self.option_list.remove(option)\n",
    "        except:\n",
    "            self.option_list.append(option)\n",
    "                                    \n",
    "        print('New option list:\\n', self.option_list)\n",
    "        \n",
    "        self.update_option_dict(self, None, option)\n",
    "        return\n",
    "    \n",
    "    def update_feature_dict(self, feature):\n",
    "        \"\"\"\n",
    "        If the feature is not in the keys, feature will be added and function will request user input to rate.\n",
    "        if feature is in the keys, feature key value pair will be removed.\n",
    "        \n",
    "        Parameters\n",
    "        ----------\n",
    "        feature: str\n",
    "            the key that will be added or removed\n",
    "        \"\"\"\n",
    "        try:\n",
    "            self.feature_dict.pop(feature)\n",
    "        except:\n",
    "            self.feature_dict.update(hmd.set_feature_importance([feature]))\n",
    "        \n",
    "        print('New feature list:\\n', self.feature_list)\n",
    "        \n",
    "        self.update_option_dict(self, feature, None)\n",
    "        return\n",
    "    \n",
    "    def update_feature_list(self, feature):\n",
    "        \"\"\"\n",
    "        If feature is not in the list, feature will be added to list\n",
    "        If feature is in list, feature will be removed.\n",
    "        \n",
    "        Parameters\n",
    "        ----------\n",
    "        feature: str\n",
    "            the feature that will be added or removed\n",
    "        \"\"\"\n",
    "        try:\n",
    "            self.feature_list.remove(feature)\n",
    "        except:\n",
    "            self.feature_list.append(feature)\n",
    "                                    \n",
    "        print('New feature list:\\n', self.feature_list)\n",
    "        \n",
    "        self.update_feature_dict(self, feature)\n",
    "        return\n",
    "    \n",
    "    def print_results(self):\n",
    "        hmd.print_scores(self.option_value_df, self.option_list)\n",
    "        \n",
    "    def plot_radar(self):\n",
    "        for pair in list(combinations(self.option_list, 2)):\n",
    "            hmd.dual_radar_plot(self.option_value_df, pair)\n",
    "        \n",
    "    def plot_venn2(self):\n",
    "        for pair in list(combinations(self.option_list, 2)):\n",
    "            hmd.create_venn2(self.option_value_df, list(pair))\n",
    "        \n",
    "    def plot_venn3(self):\n",
    "        for triple in list(combinations(self.option_list, 3)):\n",
    "            hmd.create_venn3(self.option_value_df, list(triple))"
   ]
  },
  {
   "cell_type": "code",
   "execution_count": 22,
   "metadata": {},
   "outputs": [
    {
     "name": "stdout",
     "output_type": "stream",
     "text": [
      "Please enter a feature you will use to make your decision:\n",
      "feature1\n",
      "Would you like to add another feature? (Y/N)\n",
      "y\n",
      "Please enter a feature you will use to make your decision:\n",
      "feature2\n",
      "Would you like to add another feature? (Y/N)\n",
      "n\n",
      "Imagine you have 10 points to assign to your 2 features.\n",
      "\n",
      "Assign a nonnegative whole number to each of the following features making sure the total sums to 10.\n",
      "You have 10 points left,\n",
      "and 2 more features to value.\n",
      "\n",
      "How much do you value feature2?\t6\n",
      "You have 4 points left,\n",
      "and 1 more features to value.\n",
      "\n",
      "How much do you value feature1?\t4\n",
      "Please enter the first option you need to compare:\n",
      "option1\n",
      "Would you like to add another option? (Y/N)\n",
      "y\n",
      "Please enter the next option you are comparing:\n",
      "option2\n",
      "Would you like to add another option? (Y/N)\n",
      "n\n",
      "Out of 10, how do you rate option1 in terms of feature2?\n",
      "9\n",
      "Out of 10, how do you rate option1 in terms of feature1?\n",
      "4\n",
      "Out of 10, how do you rate option2 in terms of feature2?\n",
      "8\n",
      "Out of 10, how do you rate option2 in terms of feature1?\n",
      "5\n"
     ]
    }
   ],
   "source": [
    "abstract = Decision()"
   ]
  },
  {
   "cell_type": "code",
   "execution_count": 26,
   "metadata": {},
   "outputs": [
    {
     "ename": "AttributeError",
     "evalue": "'NoneType' object has no attribute 'set_text'",
     "output_type": "error",
     "traceback": [
      "\u001b[1;31m---------------------------------------------------------------------------\u001b[0m",
      "\u001b[1;31mAttributeError\u001b[0m                            Traceback (most recent call last)",
      "\u001b[1;32m<ipython-input-26-42bd797687d3>\u001b[0m in \u001b[0;36m<module>\u001b[1;34m\u001b[0m\n\u001b[1;32m----> 1\u001b[1;33m \u001b[0mabstract\u001b[0m\u001b[1;33m.\u001b[0m\u001b[0mplot_venn2\u001b[0m\u001b[1;33m(\u001b[0m\u001b[1;33m)\u001b[0m\u001b[1;33m\u001b[0m\u001b[1;33m\u001b[0m\u001b[0m\n\u001b[0m",
      "\u001b[1;32m<ipython-input-21-1e8fcd667030>\u001b[0m in \u001b[0;36mplot_venn2\u001b[1;34m(self)\u001b[0m\n\u001b[0;32m    116\u001b[0m     \u001b[1;32mdef\u001b[0m \u001b[0mplot_venn2\u001b[0m\u001b[1;33m(\u001b[0m\u001b[0mself\u001b[0m\u001b[1;33m)\u001b[0m\u001b[1;33m:\u001b[0m\u001b[1;33m\u001b[0m\u001b[1;33m\u001b[0m\u001b[0m\n\u001b[0;32m    117\u001b[0m         \u001b[1;32mfor\u001b[0m \u001b[0mpair\u001b[0m \u001b[1;32min\u001b[0m \u001b[0mlist\u001b[0m\u001b[1;33m(\u001b[0m\u001b[0mcombinations\u001b[0m\u001b[1;33m(\u001b[0m\u001b[0mself\u001b[0m\u001b[1;33m.\u001b[0m\u001b[0moption_list\u001b[0m\u001b[1;33m,\u001b[0m \u001b[1;36m2\u001b[0m\u001b[1;33m)\u001b[0m\u001b[1;33m)\u001b[0m\u001b[1;33m:\u001b[0m\u001b[1;33m\u001b[0m\u001b[1;33m\u001b[0m\u001b[0m\n\u001b[1;32m--> 118\u001b[1;33m             \u001b[0mhmd\u001b[0m\u001b[1;33m.\u001b[0m\u001b[0mcreate_venn2\u001b[0m\u001b[1;33m(\u001b[0m\u001b[0mself\u001b[0m\u001b[1;33m.\u001b[0m\u001b[0moption_value_df\u001b[0m\u001b[1;33m,\u001b[0m \u001b[0mlist\u001b[0m\u001b[1;33m(\u001b[0m\u001b[0mpair\u001b[0m\u001b[1;33m)\u001b[0m\u001b[1;33m)\u001b[0m\u001b[1;33m\u001b[0m\u001b[1;33m\u001b[0m\u001b[0m\n\u001b[0m\u001b[0;32m    119\u001b[0m \u001b[1;33m\u001b[0m\u001b[0m\n\u001b[0;32m    120\u001b[0m     \u001b[1;32mdef\u001b[0m \u001b[0mplot_venn3\u001b[0m\u001b[1;33m(\u001b[0m\u001b[0mself\u001b[0m\u001b[1;33m)\u001b[0m\u001b[1;33m:\u001b[0m\u001b[1;33m\u001b[0m\u001b[1;33m\u001b[0m\u001b[0m\n",
      "\u001b[1;32m~\\Desktop\\Flatiron School\\code\\help-me-decide\\decision_functions.py\u001b[0m in \u001b[0;36mcreate_venn2\u001b[1;34m(df, comparison_pair)\u001b[0m\n\u001b[0;32m    230\u001b[0m \u001b[1;33m\u001b[0m\u001b[0m\n\u001b[0;32m    231\u001b[0m     \u001b[0mintersection_strings\u001b[0m \u001b[1;33m=\u001b[0m \u001b[0mlist\u001b[0m\u001b[1;33m(\u001b[0m\u001b[0mset_B\u001b[0m\u001b[1;33m.\u001b[0m\u001b[0mintersection\u001b[0m\u001b[1;33m(\u001b[0m\u001b[0mset_A\u001b[0m\u001b[1;33m)\u001b[0m\u001b[1;33m)\u001b[0m\u001b[1;33m\u001b[0m\u001b[1;33m\u001b[0m\u001b[0m\n\u001b[1;32m--> 232\u001b[1;33m     \u001b[0mv\u001b[0m\u001b[1;33m.\u001b[0m\u001b[0mget_label_by_id\u001b[0m\u001b[1;33m(\u001b[0m\u001b[1;34m'11'\u001b[0m\u001b[1;33m)\u001b[0m\u001b[1;33m.\u001b[0m\u001b[0mset_text\u001b[0m\u001b[1;33m(\u001b[0m\u001b[1;34m'\\n'\u001b[0m\u001b[1;33m.\u001b[0m\u001b[0mjoin\u001b[0m\u001b[1;33m(\u001b[0m\u001b[0mintersection_strings\u001b[0m\u001b[1;33m)\u001b[0m\u001b[1;33m)\u001b[0m\u001b[1;33m\u001b[0m\u001b[1;33m\u001b[0m\u001b[0m\n\u001b[0m\u001b[0;32m    233\u001b[0m \u001b[1;33m\u001b[0m\u001b[0m\n\u001b[0;32m    234\u001b[0m     \u001b[0mplt\u001b[0m\u001b[1;33m.\u001b[0m\u001b[0mtitle\u001b[0m\u001b[1;33m(\u001b[0m\u001b[1;34m'Venn Diagram'\u001b[0m\u001b[1;33m)\u001b[0m\u001b[1;33m\u001b[0m\u001b[1;33m\u001b[0m\u001b[0m\n",
      "\u001b[1;31mAttributeError\u001b[0m: 'NoneType' object has no attribute 'set_text'"
     ]
    },
    {
     "data": {
      "image/png": "[encoded data removed]",
      "text/plain": [
       "<Figure size 432x288 with 1 Axes>"
      ]
     },
     "metadata": {},
     "output_type": "display_data"
    }
   ],
   "source": [
    "abstract.plot_venn2()"
   ]
  },
  {
   "cell_type": "code",
   "execution_count": 17,
   "metadata": {},
   "outputs": [
    {
     "data": {
      "text/plain": [
       "{'feature3': 6, 'feature2': 7, 'feature4': 7, 'feature1': 8, 'feature5': 10}"
      ]
     },
     "execution_count": 17,
     "metadata": {},
     "output_type": "execute_result"
    }
   ],
   "source": [
    "option1={'feature3': 6, 'feature2': 7, 'feature4': 7, 'feature1': 8}\n",
    "option1.update({'feature5':10})\n",
    "option1"
   ]
  },
  {
   "cell_type": "code",
   "execution_count": null,
   "metadata": {},
   "outputs": [],
   "source": []
  }
 ],
 "metadata": {
  "kernelspec": {
   "display_name": "Python 3",
   "language": "python",
   "name": "python3"
  },
  "language_info": {
   "codemirror_mode": {
    "name": "ipython",
    "version": 3
   },
   "file_extension": ".py",
   "mimetype": "text/x-python",
   "name": "python",
   "nbconvert_exporter": "python",
   "pygments_lexer": "ipython3",
   "version": "3.7.3"
  }
 },
 "nbformat": 4,
 "nbformat_minor": 2
}
