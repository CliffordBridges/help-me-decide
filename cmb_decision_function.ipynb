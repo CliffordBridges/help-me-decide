{
 "cells": [
  {
   "cell_type": "code",
   "execution_count": 9,
   "metadata": {},
   "outputs": [],
   "source": [
    "import decision_functions as hmd\n",
    "import pandas as pd\n",
    "%matplotlib inline"
   ]
  },
  {
   "cell_type": "code",
   "execution_count": null,
   "metadata": {},
   "outputs": [],
   "source": [
    "class decision():\n",
    "    \n",
    "    "
   ]
  },
  {
   "cell_type": "code",
   "execution_count": 4,
   "metadata": {},
   "outputs": [
    {
     "name": "stdout",
     "output_type": "stream",
     "text": [
      "Please enter a feature you will use to make your decision:\n",
      "feature1\n",
      "Would you like to add another feature? (Y/N)\n",
      "y\n",
      "Please enter a feature you will use to make your decision:\n",
      "feature2\n",
      "Would you like to add another feature? (Y/N)\n",
      "y\n",
      "Please enter a feature you will use to make your decision:\n",
      "feature3\n",
      "Would you like to add another feature? (Y/N)\n",
      "feature4\n",
      "Sorry, I didn't understand that. Please enter \"Y\" or \"N\".\n",
      "y\n",
      "Please enter a feature you will use to make your decision:\n",
      "feature4\n",
      "Would you like to add another feature? (Y/N)\n",
      "y\n",
      "Please enter a feature you will use to make your decision:\n",
      "feature5\n",
      "Would you like to add another feature? (Y/N)\n",
      "feature 6\n",
      "Sorry, I didn't understand that. Please enter \"Y\" or \"N\".\n",
      "y\n",
      "Please enter a feature you will use to make your decision:\n",
      "feature6\n",
      "Would you like to add another feature? (Y/N)\n",
      "y\n",
      "Please enter a feature you will use to make your decision:\n",
      "feature7\n",
      "Would you like to add another feature? (Y/N)\n",
      "n\n"
     ]
    },
    {
     "data": {
      "text/plain": [
       "['feature1',\n",
       " 'feature2',\n",
       " 'feature3',\n",
       " 'feature4',\n",
       " 'feature5',\n",
       " 'feature6',\n",
       " 'feature7']"
      ]
     },
     "execution_count": 4,
     "metadata": {},
     "output_type": "execute_result"
    }
   ],
   "source": [
    "# Test function\n",
    "\n",
    "feature_list = hmd.get_feature_list()\n",
    "feature_list"
   ]
  },
  {
   "cell_type": "code",
   "execution_count": 5,
   "metadata": {},
   "outputs": [
    {
     "name": "stdout",
     "output_type": "stream",
     "text": [
      "Imagine you have 10 points to assign to your 7 features.\n",
      "\n",
      "Assign a nonnegative whole number to each of the following features making sure the total sums to 10.\n",
      "You have 10 points left,\n",
      "and 7 more features to value.\n",
      "\n",
      "How much do you value feature2?\t3\n",
      "You have 7 points left,\n",
      "and 6 more features to value.\n",
      "\n",
      "How much do you value feature3?\t2\n",
      "You have 5 points left,\n",
      "and 5 more features to value.\n",
      "\n",
      "How much do you value feature7?\t1\n",
      "You have 4 points left,\n",
      "and 4 more features to value.\n",
      "\n",
      "How much do you value feature1?\t1\n",
      "You have 3 points left,\n",
      "and 3 more features to value.\n",
      "\n",
      "How much do you value feature5?\t1\n",
      "You have 2 points left,\n",
      "and 2 more features to value.\n",
      "\n",
      "How much do you value feature4?\t1\n",
      "You have 1 points left,\n",
      "and 1 more features to value.\n",
      "\n",
      "How much do you value feature6?\t1\n"
     ]
    },
    {
     "data": {
      "text/plain": [
       "{'feature2': {'value': 3, 'percent': 0.3},\n",
       " 'feature3': {'value': 2, 'percent': 0.2},\n",
       " 'feature7': {'value': 1, 'percent': 0.1},\n",
       " 'feature1': {'value': 1, 'percent': 0.1},\n",
       " 'feature5': {'value': 1, 'percent': 0.1},\n",
       " 'feature4': {'value': 1, 'percent': 0.1},\n",
       " 'feature6': {'value': 1, 'percent': 0.1}}"
      ]
     },
     "execution_count": 5,
     "metadata": {},
     "output_type": "execute_result"
    }
   ],
   "source": [
    "# Test function\n",
    "feature_dict = hmd.set_feature_importance(feature_list)\n",
    "feature_dict"
   ]
  },
  {
   "cell_type": "code",
   "execution_count": 6,
   "metadata": {},
   "outputs": [
    {
     "name": "stdout",
     "output_type": "stream",
     "text": [
      "Please enter the first option you need to compare:\n",
      "option1\n",
      "Would you like to add another option? (Y/N)\n",
      "y\n",
      "Please enter the next option you are comparing:\n",
      "option2\n",
      "Would you like to add another option? (Y/N)\n",
      "y\n",
      "Please enter the next option you are comparing:\n",
      "option3\n",
      "Would you like to add another option? (Y/N)\n",
      "n\n"
     ]
    },
    {
     "data": {
      "text/plain": [
       "['option1', 'option2', 'option3']"
      ]
     },
     "execution_count": 6,
     "metadata": {},
     "output_type": "execute_result"
    }
   ],
   "source": [
    "# Test function\n",
    "option_list = hmd.get_option_list()\n",
    "option_list"
   ]
  },
  {
   "cell_type": "code",
   "execution_count": 7,
   "metadata": {},
   "outputs": [
    {
     "name": "stdout",
     "output_type": "stream",
     "text": [
      "Out of 10, how do you rate option1 in terms of feature2?\n",
      "5\n",
      "Out of 10, how do you rate option1 in terms of feature3?\n",
      "7\n",
      "Out of 10, how do you rate option1 in terms of feature7?\n",
      "3\n",
      "Out of 10, how do you rate option1 in terms of feature1?\n",
      "34\n",
      "Out of 10, how do you rate option1 in terms of feature5?\n",
      "6\n",
      "Out of 10, how do you rate option1 in terms of feature4?\n",
      "4\n",
      "Out of 10, how do you rate option1 in terms of feature6?\n",
      "6\n",
      "Out of 10, how do you rate option2 in terms of feature2?\n",
      "6\n",
      "Out of 10, how do you rate option2 in terms of feature3?\n",
      "3\n",
      "Out of 10, how do you rate option2 in terms of feature7?\n",
      "2\n",
      "Out of 10, how do you rate option2 in terms of feature1?\n",
      "5\n",
      "Out of 10, how do you rate option2 in terms of feature5?\n",
      "8\n",
      "Out of 10, how do you rate option2 in terms of feature4?\n",
      "9\n",
      "Out of 10, how do you rate option2 in terms of feature6?\n",
      "6\n",
      "Out of 10, how do you rate option3 in terms of feature2?\n",
      "3\n",
      "Out of 10, how do you rate option3 in terms of feature3?\n",
      "4\n",
      "Out of 10, how do you rate option3 in terms of feature7?\n",
      "7\n",
      "Out of 10, how do you rate option3 in terms of feature1?\n",
      "5\n",
      "Out of 10, how do you rate option3 in terms of feature5?\n",
      "2\n",
      "Out of 10, how do you rate option3 in terms of feature4?\n",
      "3\n",
      "Out of 10, how do you rate option3 in terms of feature6?\n",
      "8\n"
     ]
    },
    {
     "data": {
      "text/plain": [
       "{'option1': {'feature2': 5,\n",
       "  'feature3': 7,\n",
       "  'feature7': 3,\n",
       "  'feature1': 34,\n",
       "  'feature5': 6,\n",
       "  'feature4': 4,\n",
       "  'feature6': 6},\n",
       " 'option2': {'feature2': 6,\n",
       "  'feature3': 3,\n",
       "  'feature7': 2,\n",
       "  'feature1': 5,\n",
       "  'feature5': 8,\n",
       "  'feature4': 9,\n",
       "  'feature6': 6},\n",
       " 'option3': {'feature2': 3,\n",
       "  'feature3': 4,\n",
       "  'feature7': 7,\n",
       "  'feature1': 5,\n",
       "  'feature5': 2,\n",
       "  'feature4': 3,\n",
       "  'feature6': 8}}"
      ]
     },
     "execution_count": 7,
     "metadata": {},
     "output_type": "execute_result"
    }
   ],
   "source": [
    "# Test function\n",
    "\n",
    "option_dict = hmd.rate_each_option(feature_list, option_list)\n",
    "option_dict"
   ]
  },
  {
   "cell_type": "code",
   "execution_count": 10,
   "metadata": {},
   "outputs": [
    {
     "data": {
      "text/html": [
       "<div>\n",
       "<style scoped>\n",
       "    .dataframe tbody tr th:only-of-type {\n",
       "        vertical-align: middle;\n",
       "    }\n",
       "\n",
       "    .dataframe tbody tr th {\n",
       "        vertical-align: top;\n",
       "    }\n",
       "\n",
       "    .dataframe thead th {\n",
       "        text-align: right;\n",
       "    }\n",
       "</style>\n",
       "<table border=\"1\" class=\"dataframe\">\n",
       "  <thead>\n",
       "    <tr style=\"text-align: right;\">\n",
       "      <th></th>\n",
       "      <th>option1</th>\n",
       "      <th>option2</th>\n",
       "      <th>option3</th>\n",
       "    </tr>\n",
       "  </thead>\n",
       "  <tbody>\n",
       "    <tr>\n",
       "      <th>feature1</th>\n",
       "      <td>34</td>\n",
       "      <td>5</td>\n",
       "      <td>5</td>\n",
       "    </tr>\n",
       "    <tr>\n",
       "      <th>feature2</th>\n",
       "      <td>5</td>\n",
       "      <td>6</td>\n",
       "      <td>3</td>\n",
       "    </tr>\n",
       "    <tr>\n",
       "      <th>feature3</th>\n",
       "      <td>7</td>\n",
       "      <td>3</td>\n",
       "      <td>4</td>\n",
       "    </tr>\n",
       "    <tr>\n",
       "      <th>feature4</th>\n",
       "      <td>4</td>\n",
       "      <td>9</td>\n",
       "      <td>3</td>\n",
       "    </tr>\n",
       "    <tr>\n",
       "      <th>feature5</th>\n",
       "      <td>6</td>\n",
       "      <td>8</td>\n",
       "      <td>2</td>\n",
       "    </tr>\n",
       "    <tr>\n",
       "      <th>feature6</th>\n",
       "      <td>6</td>\n",
       "      <td>6</td>\n",
       "      <td>8</td>\n",
       "    </tr>\n",
       "    <tr>\n",
       "      <th>feature7</th>\n",
       "      <td>3</td>\n",
       "      <td>2</td>\n",
       "      <td>7</td>\n",
       "    </tr>\n",
       "  </tbody>\n",
       "</table>\n",
       "</div>"
      ],
      "text/plain": [
       "          option1  option2  option3\n",
       "feature1       34        5        5\n",
       "feature2        5        6        3\n",
       "feature3        7        3        4\n",
       "feature4        4        9        3\n",
       "feature5        6        8        2\n",
       "feature6        6        6        8\n",
       "feature7        3        2        7"
      ]
     },
     "execution_count": 10,
     "metadata": {},
     "output_type": "execute_result"
    }
   ],
   "source": [
    "pd.DataFrame.from_dict(option_dict)"
   ]
  },
  {
   "cell_type": "code",
   "execution_count": 11,
   "metadata": {},
   "outputs": [
    {
     "data": {
      "text/html": [
       "<div>\n",
       "<style scoped>\n",
       "    .dataframe tbody tr th:only-of-type {\n",
       "        vertical-align: middle;\n",
       "    }\n",
       "\n",
       "    .dataframe tbody tr th {\n",
       "        vertical-align: top;\n",
       "    }\n",
       "\n",
       "    .dataframe thead th {\n",
       "        text-align: right;\n",
       "    }\n",
       "</style>\n",
       "<table border=\"1\" class=\"dataframe\">\n",
       "  <thead>\n",
       "    <tr style=\"text-align: right;\">\n",
       "      <th></th>\n",
       "      <th>percent</th>\n",
       "      <th>value</th>\n",
       "    </tr>\n",
       "  </thead>\n",
       "  <tbody>\n",
       "    <tr>\n",
       "      <th>feature2</th>\n",
       "      <td>0.3</td>\n",
       "      <td>3.0</td>\n",
       "    </tr>\n",
       "    <tr>\n",
       "      <th>feature3</th>\n",
       "      <td>0.2</td>\n",
       "      <td>2.0</td>\n",
       "    </tr>\n",
       "    <tr>\n",
       "      <th>feature7</th>\n",
       "      <td>0.1</td>\n",
       "      <td>1.0</td>\n",
       "    </tr>\n",
       "    <tr>\n",
       "      <th>feature1</th>\n",
       "      <td>0.1</td>\n",
       "      <td>1.0</td>\n",
       "    </tr>\n",
       "    <tr>\n",
       "      <th>feature5</th>\n",
       "      <td>0.1</td>\n",
       "      <td>1.0</td>\n",
       "    </tr>\n",
       "    <tr>\n",
       "      <th>feature4</th>\n",
       "      <td>0.1</td>\n",
       "      <td>1.0</td>\n",
       "    </tr>\n",
       "    <tr>\n",
       "      <th>feature6</th>\n",
       "      <td>0.1</td>\n",
       "      <td>1.0</td>\n",
       "    </tr>\n",
       "  </tbody>\n",
       "</table>\n",
       "</div>"
      ],
      "text/plain": [
       "          percent  value\n",
       "feature2      0.3    3.0\n",
       "feature3      0.2    2.0\n",
       "feature7      0.1    1.0\n",
       "feature1      0.1    1.0\n",
       "feature5      0.1    1.0\n",
       "feature4      0.1    1.0\n",
       "feature6      0.1    1.0"
      ]
     },
     "execution_count": 11,
     "metadata": {},
     "output_type": "execute_result"
    }
   ],
   "source": [
    "pd.DataFrame(feature_dict).T"
   ]
  },
  {
   "cell_type": "code",
   "execution_count": 12,
   "metadata": {},
   "outputs": [],
   "source": [
    "option_value_df = pd.DataFrame.from_dict(option_dict).merge(pd.DataFrame(feature_dict).T, left_index=True, right_index=True)"
   ]
  },
  {
   "cell_type": "code",
   "execution_count": 13,
   "metadata": {},
   "outputs": [
    {
     "name": "stdout",
     "output_type": "stream",
     "text": [
      "option1:  0.8200000000000001\n",
      "option2:  0.5399999999999999\n",
      "option3:  0.42000000000000004\n"
     ]
    }
   ],
   "source": [
    "hmd.print_scores(option_value_df, option_list)"
   ]
  },
  {
   "cell_type": "code",
   "execution_count": 14,
   "metadata": {},
   "outputs": [
    {
     "data": {
      "text/html": [
       "<div>\n",
       "<style scoped>\n",
       "    .dataframe tbody tr th:only-of-type {\n",
       "        vertical-align: middle;\n",
       "    }\n",
       "\n",
       "    .dataframe tbody tr th {\n",
       "        vertical-align: top;\n",
       "    }\n",
       "\n",
       "    .dataframe thead th {\n",
       "        text-align: right;\n",
       "    }\n",
       "</style>\n",
       "<table border=\"1\" class=\"dataframe\">\n",
       "  <thead>\n",
       "    <tr style=\"text-align: right;\">\n",
       "      <th></th>\n",
       "      <th>option1</th>\n",
       "      <th>option2</th>\n",
       "      <th>option3</th>\n",
       "      <th>percent</th>\n",
       "      <th>value</th>\n",
       "    </tr>\n",
       "  </thead>\n",
       "  <tbody>\n",
       "    <tr>\n",
       "      <th>feature1</th>\n",
       "      <td>34</td>\n",
       "      <td>5</td>\n",
       "      <td>5</td>\n",
       "      <td>0.1</td>\n",
       "      <td>1.0</td>\n",
       "    </tr>\n",
       "    <tr>\n",
       "      <th>feature2</th>\n",
       "      <td>5</td>\n",
       "      <td>6</td>\n",
       "      <td>3</td>\n",
       "      <td>0.3</td>\n",
       "      <td>3.0</td>\n",
       "    </tr>\n",
       "    <tr>\n",
       "      <th>feature3</th>\n",
       "      <td>7</td>\n",
       "      <td>3</td>\n",
       "      <td>4</td>\n",
       "      <td>0.2</td>\n",
       "      <td>2.0</td>\n",
       "    </tr>\n",
       "    <tr>\n",
       "      <th>feature4</th>\n",
       "      <td>4</td>\n",
       "      <td>9</td>\n",
       "      <td>3</td>\n",
       "      <td>0.1</td>\n",
       "      <td>1.0</td>\n",
       "    </tr>\n",
       "    <tr>\n",
       "      <th>feature5</th>\n",
       "      <td>6</td>\n",
       "      <td>8</td>\n",
       "      <td>2</td>\n",
       "      <td>0.1</td>\n",
       "      <td>1.0</td>\n",
       "    </tr>\n",
       "    <tr>\n",
       "      <th>feature6</th>\n",
       "      <td>6</td>\n",
       "      <td>6</td>\n",
       "      <td>8</td>\n",
       "      <td>0.1</td>\n",
       "      <td>1.0</td>\n",
       "    </tr>\n",
       "    <tr>\n",
       "      <th>feature7</th>\n",
       "      <td>3</td>\n",
       "      <td>2</td>\n",
       "      <td>7</td>\n",
       "      <td>0.1</td>\n",
       "      <td>1.0</td>\n",
       "    </tr>\n",
       "  </tbody>\n",
       "</table>\n",
       "</div>"
      ],
      "text/plain": [
       "          option1  option2  option3  percent  value\n",
       "feature1       34        5        5      0.1    1.0\n",
       "feature2        5        6        3      0.3    3.0\n",
       "feature3        7        3        4      0.2    2.0\n",
       "feature4        4        9        3      0.1    1.0\n",
       "feature5        6        8        2      0.1    1.0\n",
       "feature6        6        6        8      0.1    1.0\n",
       "feature7        3        2        7      0.1    1.0"
      ]
     },
     "execution_count": 14,
     "metadata": {},
     "output_type": "execute_result"
    }
   ],
   "source": [
    "option_value_df"
   ]
  },
  {
   "cell_type": "code",
   "execution_count": 16,
   "metadata": {
    "scrolled": false
   },
   "outputs": [
    {
     "data": {
      "image/png": "[encoded data removed]",
      "text/plain": [
       "<Figure size 432x288 with 1 Axes>"
      ]
     },
     "metadata": {},
     "output_type": "display_data"
    }
   ],
   "source": [
    "hmd.dual_radar_plot(option_value_df, ['option1', 'option2'])"
   ]
  },
  {
   "cell_type": "code",
   "execution_count": 17,
   "metadata": {},
   "outputs": [
    {
     "data": {
      "image/png": "[encoded data removed]",
      "text/plain": [
       "<Figure size 432x288 with 1 Axes>"
      ]
     },
     "metadata": {},
     "output_type": "display_data"
    }
   ],
   "source": [
    "hmd.create_venn2(option_value_df, ['option1', 'option2'])"
   ]
  },
  {
   "cell_type": "code",
   "execution_count": 19,
   "metadata": {},
   "outputs": [
    {
     "data": {
      "image/png": "[encoded data removed]",
      "text/plain": [
       "<Figure size 720x720 with 1 Axes>"
      ]
     },
     "metadata": {},
     "output_type": "display_data"
    }
   ],
   "source": [
    "hmd.create_venn3(option_value_df, ['option1', 'option2', 'option3'])"
   ]
  },
  {
   "cell_type": "code",
   "execution_count": null,
   "metadata": {},
   "outputs": [],
   "source": []
  }
 ],
 "metadata": {
  "kernelspec": {
   "display_name": "Python 3",
   "language": "python",
   "name": "python3"
  },
  "language_info": {
   "codemirror_mode": {
    "name": "ipython",
    "version": 3
   },
   "file_extension": ".py",
   "mimetype": "text/x-python",
   "name": "python",
   "nbconvert_exporter": "python",
   "pygments_lexer": "ipython3",
   "version": "3.7.3"
  }
 },
 "nbformat": 4,
 "nbformat_minor": 2
}
