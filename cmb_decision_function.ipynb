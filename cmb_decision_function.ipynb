{
 "cells": [
  {
   "cell_type": "code",
   "execution_count": 65,
   "metadata": {},
   "outputs": [],
   "source": [
    "import pandas as pd\n",
    "import matplotlib.pyplot as plt\n",
    "%matplotlib inline\n",
    "import numpy as np\n",
    "import time\n",
    "from math import pi\n",
    "from matplotlib_venn import venn2, venn3"
   ]
  },
  {
   "cell_type": "code",
   "execution_count": 6,
   "metadata": {},
   "outputs": [],
   "source": [
    "def ask_more_values(value):\n",
    "    \"\"\"\n",
    "    Ask the user if they would like to add an additional value\n",
    "    \"\"\" \n",
    "    resp = 'yes'\n",
    "    counter = 0\n",
    "    while len(resp) > 1 and counter < 3:\n",
    "        if counter == 0:\n",
    "            resp = input(f'Would you like to add another {value}? (Y/N)\\n')\n",
    "            counter += 1\n",
    "        elif counter < 3:\n",
    "            resp = input('Sorry, I didn\\'t understand that. Please enter \"Y\" or \"N\".\\n')\n",
    "            counter += 1\n",
    "        else:\n",
    "            print('I\\'m, having a hard time understanding you. Please try again later.')\n",
    "            resp = 'quit'\n",
    "            break\n",
    "    \n",
    "    return resp"
   ]
  },
  {
   "cell_type": "code",
   "execution_count": 7,
   "metadata": {},
   "outputs": [],
   "source": [
    "def get_feature_list():\n",
    "    \"\"\"\n",
    "    Ask the user to enter a feature\n",
    "    \"\"\"\n",
    "    # artificial max number of features\n",
    "    n = 10\n",
    "    \n",
    "    # At least one feature is requested\n",
    "    feature_list = []\n",
    "    feature_list.append(input('Please enter a feature you will use to make your decsision:\\n'))\n",
    "    \n",
    "    # Set initial response\n",
    "    resp = ask_more_values('feature')\n",
    "\n",
    "    # More features are requested one at a time\n",
    "    while resp.lower() == 'y' and len(feature_list) < n:\n",
    "        feature_list.append(input('Please enter a feature you will use to make your decsision:\\n'))\n",
    "        resp = ask_more_values('feature')\n",
    "    \n",
    "    return feature_list"
   ]
  },
  {
   "cell_type": "code",
   "execution_count": 67,
   "metadata": {},
   "outputs": [
    {
     "name": "stdout",
     "output_type": "stream",
     "text": [
      "Please enter a feature you will use to make your decsision:\n",
      "feature1\n",
      "Would you like to add another feature? (Y/N)\n",
      "y\n",
      "Please enter a feature you will use to make your decsision:\n",
      "feature2\n",
      "Would you like to add another feature? (Y/N)\n",
      "y\n",
      "Please enter a feature you will use to make your decsision:\n",
      "feature3\n",
      "Would you like to add another feature? (Y/N)\n",
      "y\n",
      "Please enter a feature you will use to make your decsision:\n",
      "feature4\n",
      "Would you like to add another feature? (Y/N)\n",
      "y\n",
      "Please enter a feature you will use to make your decsision:\n",
      "feature5\n",
      "Would you like to add another feature? (Y/N)\n",
      "n\n"
     ]
    },
    {
     "data": {
      "text/plain": [
       "['feature1', 'feature2', 'feature3', 'feature4', 'feature5']"
      ]
     },
     "execution_count": 67,
     "metadata": {},
     "output_type": "execute_result"
    }
   ],
   "source": [
    "# Test function\n",
    "\n",
    "feature_list = get_feature_list()\n",
    "feature_list"
   ]
  },
  {
   "cell_type": "code",
   "execution_count": 9,
   "metadata": {},
   "outputs": [],
   "source": [
    "def set_feature_importance(feature_list):\n",
    "    \"\"\"\n",
    "    Set the importance of each feature\n",
    "    \"\"\"\n",
    "    # Total for feature importances should add up to a round number\n",
    "    num_features = len(feature_list)\n",
    "    if num_features==1:\n",
    "        df.iloc[0,'importance']=1\n",
    "        return df\n",
    "    elif num_features<10:\n",
    "        total_importance = 10\n",
    "    else:\n",
    "        total_importance = 100\n",
    "        \n",
    "    print(f'Imagine you have {total_importance} points to assign to your {num_features} features.\\n')\n",
    "    print(f'Assign a nonnegative whole number to each of the following features making sure the total sums to {total_importance}.')\n",
    "    np.random.shuffle(feature_list)\n",
    "    feature_dict = {}\n",
    "    points_used = 0\n",
    "    for index, feature in enumerate(feature_list):\n",
    "        print(f'You have {total_importance - points_used} points left,')\n",
    "        print(f'and {num_features - index} more features to value.\\n')\n",
    "        time.sleep(1)\n",
    "        try:\n",
    "            feature_dict[feature] = input(f'How much do you value {feature}?\\t')\n",
    "            feature_dict[feature] = {'value': int(feature_dict[feature]), 'percent': int(feature_dict[feature])/total_importance}\n",
    "            points_used += feature_dict[feature]['value']\n",
    "        except:\n",
    "            print('You must enter a whole number')\n",
    "            feature_dict[feature] = input(f'How much do you value {feature}?\\t')\n",
    "            feature_dict[feature] = {'value': int(feature_dict[feature]), 'percent': int(feature_dict[feature])/total_importance}\n",
    "            points_used += feature_dict[feature]['value']\n",
    "            \n",
    "    return feature_dict"
   ]
  },
  {
   "cell_type": "code",
   "execution_count": 68,
   "metadata": {},
   "outputs": [
    {
     "name": "stdout",
     "output_type": "stream",
     "text": [
      "Imagine you have 10 points to assign to your 5 features.\n",
      "\n",
      "Assign a nonnegative whole number to each of the following features making sure the total sums to 10.\n",
      "You have 10 points left,\n",
      "and 5 more features to value.\n",
      "\n",
      "How much do you value feature3?\t2\n",
      "You have 8 points left,\n",
      "and 4 more features to value.\n",
      "\n",
      "How much do you value feature4?\t2\n",
      "You have 6 points left,\n",
      "and 3 more features to value.\n",
      "\n",
      "How much do you value feature2?\t2\n",
      "You have 4 points left,\n",
      "and 2 more features to value.\n",
      "\n",
      "How much do you value feature5?\t2\n",
      "You have 2 points left,\n",
      "and 1 more features to value.\n",
      "\n",
      "How much do you value feature1?\t2\n"
     ]
    },
    {
     "data": {
      "text/plain": [
       "{'feature3': {'value': 2, 'percent': 0.2},\n",
       " 'feature4': {'value': 2, 'percent': 0.2},\n",
       " 'feature2': {'value': 2, 'percent': 0.2},\n",
       " 'feature5': {'value': 2, 'percent': 0.2},\n",
       " 'feature1': {'value': 2, 'percent': 0.2}}"
      ]
     },
     "execution_count": 68,
     "metadata": {},
     "output_type": "execute_result"
    }
   ],
   "source": [
    "# Test function\n",
    "feature_dict = set_feature_importance(feature_list)\n",
    "feature_dict"
   ]
  },
  {
   "cell_type": "code",
   "execution_count": 12,
   "metadata": {},
   "outputs": [],
   "source": [
    "def get_option_list():\n",
    "    \"\"\"\n",
    "    Ask the user to enter an option\n",
    "    \"\"\"\n",
    "    # artificial max number of features\n",
    "    n = 5\n",
    "    \n",
    "    # At least one feature is requested\n",
    "    option_list = []\n",
    "    option_list.append(input('Please enter the first option you need to compare:\\n'))\n",
    "    \n",
    "    # Set initial response\n",
    "    resp = ask_more_values('option')\n",
    "\n",
    "    # More features are requested one at a time\n",
    "    while resp.lower() == 'y' and len(option_list) < n:\n",
    "        option_list.append(input('Please enter the next option you are comparing:\\n'))\n",
    "        resp = ask_more_values('option')\n",
    "    \n",
    "    return option_list"
   ]
  },
  {
   "cell_type": "code",
   "execution_count": 69,
   "metadata": {},
   "outputs": [
    {
     "name": "stdout",
     "output_type": "stream",
     "text": [
      "Please enter the first option you need to compare:\n",
      "alpha\n",
      "Would you like to add another option? (Y/N)\n",
      "y\n",
      "Please enter the next option you are comparing:\n",
      "beta\n",
      "Would you like to add another option? (Y/N)\n",
      "y\n",
      "Please enter the next option you are comparing:\n",
      "gamma\n",
      "Would you like to add another option? (Y/N)\n",
      "n\n"
     ]
    },
    {
     "data": {
      "text/plain": [
       "['alpha', 'beta', 'gamma']"
      ]
     },
     "execution_count": 69,
     "metadata": {},
     "output_type": "execute_result"
    }
   ],
   "source": [
    "# Test function\n",
    "option_list = get_option_list()\n",
    "option_list"
   ]
  },
  {
   "cell_type": "code",
   "execution_count": 14,
   "metadata": {},
   "outputs": [],
   "source": [
    "def rate_each_option(feature_list, option_list):\n",
    "    \"\"\"\n",
    "    rate each feature in each option\n",
    "    \"\"\"\n",
    "    option_dict = {}\n",
    "    for option in option_list:\n",
    "        feature_rating_dict = {}\n",
    "        for feature in feature_list:\n",
    "            feature_rating_dict[feature] = int(input(f'How do you rate {option} in terms of {feature}?\\n'))\n",
    "        option_dict[option] = feature_rating_dict\n",
    "        \n",
    "    return option_dict"
   ]
  },
  {
   "cell_type": "code",
   "execution_count": 70,
   "metadata": {},
   "outputs": [
    {
     "name": "stdout",
     "output_type": "stream",
     "text": [
      "How do you rate alpha in terms of feature3?\n",
      "1\n",
      "How do you rate alpha in terms of feature4?\n",
      "2\n",
      "How do you rate alpha in terms of feature2?\n",
      "3\n",
      "How do you rate alpha in terms of feature5?\n",
      "4\n",
      "How do you rate alpha in terms of feature1?\n",
      "5\n",
      "How do you rate beta in terms of feature3?\n",
      "5\n",
      "How do you rate beta in terms of feature4?\n",
      "4\n",
      "How do you rate beta in terms of feature2?\n",
      "3\n",
      "How do you rate beta in terms of feature5?\n",
      "2\n",
      "How do you rate beta in terms of feature1?\n",
      "1\n",
      "How do you rate gamma in terms of feature3?\n",
      "3\n",
      "How do you rate gamma in terms of feature4?\n",
      "3\n",
      "How do you rate gamma in terms of feature2?\n",
      "3\n",
      "How do you rate gamma in terms of feature5?\n",
      "3\n",
      "How do you rate gamma in terms of feature1?\n",
      "3\n"
     ]
    },
    {
     "data": {
      "text/plain": [
       "{'alpha': {'feature3': 1,\n",
       "  'feature4': 2,\n",
       "  'feature2': 3,\n",
       "  'feature5': 4,\n",
       "  'feature1': 5},\n",
       " 'beta': {'feature3': 5,\n",
       "  'feature4': 4,\n",
       "  'feature2': 3,\n",
       "  'feature5': 2,\n",
       "  'feature1': 1},\n",
       " 'gamma': {'feature3': 3,\n",
       "  'feature4': 3,\n",
       "  'feature2': 3,\n",
       "  'feature5': 3,\n",
       "  'feature1': 3}}"
      ]
     },
     "execution_count": 70,
     "metadata": {},
     "output_type": "execute_result"
    }
   ],
   "source": [
    "# Test function\n",
    "\n",
    "option_dict = rate_each_option(feature_list, option_list)\n",
    "option_dict"
   ]
  },
  {
   "cell_type": "code",
   "execution_count": 71,
   "metadata": {},
   "outputs": [
    {
     "data": {
      "text/html": [
       "<div>\n",
       "<style scoped>\n",
       "    .dataframe tbody tr th:only-of-type {\n",
       "        vertical-align: middle;\n",
       "    }\n",
       "\n",
       "    .dataframe tbody tr th {\n",
       "        vertical-align: top;\n",
       "    }\n",
       "\n",
       "    .dataframe thead th {\n",
       "        text-align: right;\n",
       "    }\n",
       "</style>\n",
       "<table border=\"1\" class=\"dataframe\">\n",
       "  <thead>\n",
       "    <tr style=\"text-align: right;\">\n",
       "      <th></th>\n",
       "      <th>alpha</th>\n",
       "      <th>beta</th>\n",
       "      <th>gamma</th>\n",
       "    </tr>\n",
       "  </thead>\n",
       "  <tbody>\n",
       "    <tr>\n",
       "      <th>feature1</th>\n",
       "      <td>5</td>\n",
       "      <td>1</td>\n",
       "      <td>3</td>\n",
       "    </tr>\n",
       "    <tr>\n",
       "      <th>feature2</th>\n",
       "      <td>3</td>\n",
       "      <td>3</td>\n",
       "      <td>3</td>\n",
       "    </tr>\n",
       "    <tr>\n",
       "      <th>feature3</th>\n",
       "      <td>1</td>\n",
       "      <td>5</td>\n",
       "      <td>3</td>\n",
       "    </tr>\n",
       "    <tr>\n",
       "      <th>feature4</th>\n",
       "      <td>2</td>\n",
       "      <td>4</td>\n",
       "      <td>3</td>\n",
       "    </tr>\n",
       "    <tr>\n",
       "      <th>feature5</th>\n",
       "      <td>4</td>\n",
       "      <td>2</td>\n",
       "      <td>3</td>\n",
       "    </tr>\n",
       "  </tbody>\n",
       "</table>\n",
       "</div>"
      ],
      "text/plain": [
       "          alpha  beta  gamma\n",
       "feature1      5     1      3\n",
       "feature2      3     3      3\n",
       "feature3      1     5      3\n",
       "feature4      2     4      3\n",
       "feature5      4     2      3"
      ]
     },
     "execution_count": 71,
     "metadata": {},
     "output_type": "execute_result"
    }
   ],
   "source": [
    "pd.DataFrame.from_dict(option_dict)"
   ]
  },
  {
   "cell_type": "code",
   "execution_count": 17,
   "metadata": {},
   "outputs": [
    {
     "data": {
      "text/html": [
       "<div>\n",
       "<style scoped>\n",
       "    .dataframe tbody tr th:only-of-type {\n",
       "        vertical-align: middle;\n",
       "    }\n",
       "\n",
       "    .dataframe tbody tr th {\n",
       "        vertical-align: top;\n",
       "    }\n",
       "\n",
       "    .dataframe thead th {\n",
       "        text-align: right;\n",
       "    }\n",
       "</style>\n",
       "<table border=\"1\" class=\"dataframe\">\n",
       "  <thead>\n",
       "    <tr style=\"text-align: right;\">\n",
       "      <th></th>\n",
       "      <th>percent</th>\n",
       "      <th>value</th>\n",
       "    </tr>\n",
       "  </thead>\n",
       "  <tbody>\n",
       "    <tr>\n",
       "      <th>feature1</th>\n",
       "      <td>0.3</td>\n",
       "      <td>3.0</td>\n",
       "    </tr>\n",
       "    <tr>\n",
       "      <th>feature2</th>\n",
       "      <td>0.4</td>\n",
       "      <td>4.0</td>\n",
       "    </tr>\n",
       "    <tr>\n",
       "      <th>feature3</th>\n",
       "      <td>0.3</td>\n",
       "      <td>3.0</td>\n",
       "    </tr>\n",
       "  </tbody>\n",
       "</table>\n",
       "</div>"
      ],
      "text/plain": [
       "          percent  value\n",
       "feature1      0.3    3.0\n",
       "feature2      0.4    4.0\n",
       "feature3      0.3    3.0"
      ]
     },
     "execution_count": 17,
     "metadata": {},
     "output_type": "execute_result"
    }
   ],
   "source": [
    "pd.DataFrame(feature_dict).T"
   ]
  },
  {
   "cell_type": "code",
   "execution_count": 72,
   "metadata": {},
   "outputs": [],
   "source": [
    "option_value_df = pd.DataFrame.from_dict(option_dict).merge(pd.DataFrame(feature_dict).T, left_index=True, right_index=True)"
   ]
  },
  {
   "cell_type": "code",
   "execution_count": 19,
   "metadata": {},
   "outputs": [],
   "source": [
    "def print_scores(option_value_df, option_list):\n",
    "    for option in option_list:\n",
    "        total = option_value_df[option]*option_value_df['percent']\n",
    "        print(f'{option}: ', total.sum()/10)\n",
    "    return"
   ]
  },
  {
   "cell_type": "code",
   "execution_count": 73,
   "metadata": {},
   "outputs": [
    {
     "name": "stdout",
     "output_type": "stream",
     "text": [
      "alpha:  0.3\n",
      "beta:  0.3\n",
      "gamma:  0.30000000000000004\n"
     ]
    }
   ],
   "source": [
    "print_scores(option_value_df, option_list)"
   ]
  },
  {
   "cell_type": "code",
   "execution_count": 74,
   "metadata": {},
   "outputs": [
    {
     "data": {
      "text/html": [
       "<div>\n",
       "<style scoped>\n",
       "    .dataframe tbody tr th:only-of-type {\n",
       "        vertical-align: middle;\n",
       "    }\n",
       "\n",
       "    .dataframe tbody tr th {\n",
       "        vertical-align: top;\n",
       "    }\n",
       "\n",
       "    .dataframe thead th {\n",
       "        text-align: right;\n",
       "    }\n",
       "</style>\n",
       "<table border=\"1\" class=\"dataframe\">\n",
       "  <thead>\n",
       "    <tr style=\"text-align: right;\">\n",
       "      <th></th>\n",
       "      <th>alpha</th>\n",
       "      <th>beta</th>\n",
       "      <th>gamma</th>\n",
       "      <th>percent</th>\n",
       "      <th>value</th>\n",
       "    </tr>\n",
       "  </thead>\n",
       "  <tbody>\n",
       "    <tr>\n",
       "      <th>feature1</th>\n",
       "      <td>5</td>\n",
       "      <td>1</td>\n",
       "      <td>3</td>\n",
       "      <td>0.2</td>\n",
       "      <td>2.0</td>\n",
       "    </tr>\n",
       "    <tr>\n",
       "      <th>feature2</th>\n",
       "      <td>3</td>\n",
       "      <td>3</td>\n",
       "      <td>3</td>\n",
       "      <td>0.2</td>\n",
       "      <td>2.0</td>\n",
       "    </tr>\n",
       "    <tr>\n",
       "      <th>feature3</th>\n",
       "      <td>1</td>\n",
       "      <td>5</td>\n",
       "      <td>3</td>\n",
       "      <td>0.2</td>\n",
       "      <td>2.0</td>\n",
       "    </tr>\n",
       "    <tr>\n",
       "      <th>feature4</th>\n",
       "      <td>2</td>\n",
       "      <td>4</td>\n",
       "      <td>3</td>\n",
       "      <td>0.2</td>\n",
       "      <td>2.0</td>\n",
       "    </tr>\n",
       "    <tr>\n",
       "      <th>feature5</th>\n",
       "      <td>4</td>\n",
       "      <td>2</td>\n",
       "      <td>3</td>\n",
       "      <td>0.2</td>\n",
       "      <td>2.0</td>\n",
       "    </tr>\n",
       "  </tbody>\n",
       "</table>\n",
       "</div>"
      ],
      "text/plain": [
       "          alpha  beta  gamma  percent  value\n",
       "feature1      5     1      3      0.2    2.0\n",
       "feature2      3     3      3      0.2    2.0\n",
       "feature3      1     5      3      0.2    2.0\n",
       "feature4      2     4      3      0.2    2.0\n",
       "feature5      4     2      3      0.2    2.0"
      ]
     },
     "execution_count": 74,
     "metadata": {},
     "output_type": "execute_result"
    }
   ],
   "source": [
    "option_value_df"
   ]
  },
  {
   "cell_type": "code",
   "execution_count": 22,
   "metadata": {},
   "outputs": [],
   "source": [
    "def dual_radar_plot(df, comparison_pair):\n",
    "    \"\"\"\n",
    "    Make a radar plot comparing feature values of two options\n",
    "    \"\"\"\n",
    "    # ------- PART 1: Create background\n",
    "    feature_list = df.index.values\n",
    "\n",
    "    # number of variable\n",
    "    N = len(feature_list)\n",
    "\n",
    "    # What will be the angle of each axis in the plot? (we divide the plot / number of variable)\n",
    "    angles = [n / float(N) * 2 * pi for n in range(N)]\n",
    "    angles += angles[:1]\n",
    "\n",
    "    # Initialise the spider plot\n",
    "    ax = plt.subplot(111, polar=True)\n",
    "\n",
    "    # If you want the first axis to be on top:\n",
    "    ax.set_theta_offset(pi / 2)\n",
    "    ax.set_theta_direction(-1)\n",
    "\n",
    "    # Draw one axe per variable + add labels labels yet\n",
    "    plt.xticks(angles[:-1], feature_list)\n",
    "\n",
    "    # Draw ylabels\n",
    "    ax.set_rlabel_position(0)\n",
    "    plt.yticks([2, 4, 6, 8], [\"2\", \"4\", \"6\", \"8\"], color=\"grey\", size=7)\n",
    "    plt.ylim(0, 10)\n",
    "\n",
    "\n",
    "    # ------- PART 2: Add plots\n",
    "\n",
    "    # Plot each individual = each line of the data\n",
    "    # I don't do a loop, because plotting more than 3 groups makes the chart unreadable\n",
    "    for option in comparison_pair:\n",
    "        values = df[option].values.tolist()\n",
    "        values += values[:1]\n",
    "        ax.plot(angles, values, linewidth=1, linestyle='solid', label=option)\n",
    "        ax.fill(angles, values, 'b', alpha=0.1)\n",
    "\n",
    "    # Add legend\n",
    "    plt.legend(loc='upper right', bbox_to_anchor=(0.1, 0.1))\n",
    "    plt.show()"
   ]
  },
  {
   "cell_type": "code",
   "execution_count": 23,
   "metadata": {},
   "outputs": [],
   "source": [
    "def get_options_for_radar(option_list):\n",
    "    \"\"\"\n",
    "    Gets 1 or 2 options for the radar plot\n",
    "    \"\"\"\n",
    "    print('Choose up to two options to compare on a radar plot. ')\n",
    "    print('Remember, the list of options are:\\n')\n",
    "    print(*option_list, sep=\"\\n\")\n",
    "    comparison_list = ['none']\n",
    "    counter = 0\n",
    "    time.sleep(1)\n",
    "    while comparison_list[0] not in option_list:\n",
    "        comparison_list[0] = input('Enter the first option to compare:\\n')\n",
    "        counter += 1\n",
    "        if counter > 3:\n",
    "            print('Sorry, I missed that. I\\'ll use the first option.')\n",
    "            comparison_list[0] = option_list[0]\n",
    "            break\n",
    "    \n",
    "    comparison_list.append(input('Enter the second option to compare, or type \"none\":\\n'))\n",
    "    while comparison_list[1] not in option_list:\n",
    "        comparison_list[1] = input('Enter the first option to compare:\\n')\n",
    "        counter += 1\n",
    "        if counter > 3:\n",
    "            print('Sorry, I missed that. We\\'ll skip this option.')\n",
    "            comparison_list[1] = 'none'\n",
    "            break\n",
    "    \n",
    "    if comparison_list[1] == 'none':\n",
    "        return comparison_list[0]\n",
    "    return comparison_list"
   ]
  },
  {
   "cell_type": "code",
   "execution_count": 75,
   "metadata": {
    "scrolled": false
   },
   "outputs": [
    {
     "data": {
      "image/png": "[encoded data removed]",
      "text/plain": [
       "<Figure size 432x288 with 1 Axes>"
      ]
     },
     "metadata": {},
     "output_type": "display_data"
    }
   ],
   "source": [
    "dual_radar_plot(option_value_df, ['alpha', 'beta'])"
   ]
  },
  {
   "cell_type": "code",
   "execution_count": 77,
   "metadata": {},
   "outputs": [],
   "source": [
    "def create_venn2(df, comparison_pair):\n",
    "    \"\"\"\n",
    "    Create a 2 circle Venn Diagram\n",
    "    \"\"\"\n",
    "    \n",
    "    list_of_dicts = df[comparison_pair].T.to_dict('records')\n",
    "    list_of_strings = []\n",
    "    for key, value in list_of_dicts[0].items():\n",
    "        list_of_strings.append(str(key)+':'+str(value))\n",
    "    set_A = set(list_of_strings)\n",
    "    \n",
    "    list_of_strings = []\n",
    "    for key, value in list_of_dicts[1].items():\n",
    "        list_of_strings.append(str(key)+':'+str(value))\n",
    "    set_B = set(list_of_strings)\n",
    "    \n",
    "    list_of_sets = [set_A, set_B]\n",
    "\n",
    "    v = venn2(list_of_sets, set_labels=comparison_pair)\n",
    "    \n",
    "    alpha_strings = list(set_B.difference(set_A))\n",
    "    v.get_label_by_id('01').set_text('\\n'.join(alpha_strings))\n",
    "    \n",
    "    beta_strings = list(set_A.difference(set_B))\n",
    "    v.get_label_by_id('10').set_text('\\n'.join(beta_strings))\n",
    "    \n",
    "    intersection_strings = list(set_B.intersection(set_A))\n",
    "    v.get_label_by_id('11').set_text('\\n'.join(intersection_strings))\n",
    "    \n",
    "    plt.title('Venn Diagram')\n",
    "    plt.show()\n",
    "    \n",
    "    return"
   ]
  },
  {
   "cell_type": "code",
   "execution_count": 78,
   "metadata": {},
   "outputs": [
    {
     "data": {
      "image/png": "[encoded data removed]",
      "text/plain": [
       "<Figure size 432x288 with 1 Axes>"
      ]
     },
     "metadata": {},
     "output_type": "display_data"
    }
   ],
   "source": [
    "create_venn2(option_value_df, ['alpha', 'beta'])"
   ]
  },
  {
   "cell_type": "code",
   "execution_count": 82,
   "metadata": {},
   "outputs": [],
   "source": [
    "def create_venn3(df, comparison_triple):\n",
    "    \"\"\"\n",
    "    Create a 3 circle venn diagram\n",
    "    \"\"\"\n",
    "    list_of_dicts = df[comparison_triple].T.to_dict('records')\n",
    "    list_of_strings = []\n",
    "    for key, value in list_of_dicts[0].items():\n",
    "        list_of_strings.append(str(key)+':'+str(value))\n",
    "    set_A = set(list_of_strings)\n",
    "    \n",
    "    list_of_strings = []\n",
    "    for key, value in list_of_dicts[1].items():\n",
    "        list_of_strings.append(str(key)+':'+str(value))\n",
    "    set_B = set(list_of_strings)\n",
    "    \n",
    "    list_of_strings = []\n",
    "    for key, value in list_of_dicts[2].items():\n",
    "        list_of_strings.append(str(key)+':'+str(value))\n",
    "    set_C = set(list_of_strings)\n",
    "    \n",
    "    list_of_sets = [set_A, set_B, set_C]\n",
    "    \n",
    "    \n",
    "    v=venn3(subsets = (10, 8, 22, 6,9,4,2), set_labels = comparison_triple)\n",
    "    \n",
    "    strings_001 = list(set_C.difference(set_A).difference(set_B))\n",
    "    v.get_label_by_id('001').set_text('\\n'.join(strings_001))\n",
    "    \n",
    "    strings_010 = list(set_B.difference(set_A).difference(set_C))\n",
    "    v.get_label_by_id('010').set_text('\\n'.join(strings_010))\n",
    "    \n",
    "    strings_100 = list(set_A.difference(set_B).difference(set_C))\n",
    "    v.get_label_by_id('100').set_text('\\n'.join(strings_100))\n",
    "    \n",
    "    strings_011 = list(set_B.intersection(set_C).difference(set_A))\n",
    "    v.get_label_by_id('011').set_text('\\n'.join(strings_011))\n",
    "    \n",
    "    strings_101 = list(set_A.intersection(set_C).difference(set_B))\n",
    "    v.get_label_by_id('101').set_text('\\n'.join(strings_101))\n",
    "    \n",
    "    strings_110 = list(set_A.intersection(set_B).difference(set_C))\n",
    "    v.get_label_by_id('110').set_text('\\n'.join(strings_110))\n",
    "    \n",
    "    strings_111 = list(set_A.intersection(set_B).intersection(set_C))\n",
    "    v.get_label_by_id('111').set_text('\\n'.join(strings_111))\n",
    "    \n",
    "    \n",
    "    plt.title('Venn Diagram')\n",
    "    \n",
    "    plt.show()\n",
    "    \n",
    "    return list_of_sets"
   ]
  },
  {
   "cell_type": "code",
   "execution_count": 83,
   "metadata": {},
   "outputs": [
    {
     "data": {
      "image/png": "[encoded data removed]",
      "text/plain": [
       "<Figure size 432x288 with 1 Axes>"
      ]
     },
     "metadata": {},
     "output_type": "display_data"
    },
    {
     "data": {
      "text/plain": [
       "[{'feature1:5', 'feature2:3', 'feature3:1', 'feature4:2', 'feature5:4'},\n",
       " {'feature1:1', 'feature2:3', 'feature3:5', 'feature4:4', 'feature5:2'},\n",
       " {'feature1:3', 'feature2:3', 'feature3:3', 'feature4:3', 'feature5:3'}]"
      ]
     },
     "execution_count": 83,
     "metadata": {},
     "output_type": "execute_result"
    }
   ],
   "source": [
    "create_venn3(option_value_df, ['alpha', 'beta', 'gamma'])"
   ]
  },
  {
   "cell_type": "code",
   "execution_count": null,
   "metadata": {},
   "outputs": [],
   "source": []
  }
 ],
 "metadata": {
  "kernelspec": {
   "display_name": "Python 3",
   "language": "python",
   "name": "python3"
  },
  "language_info": {
   "codemirror_mode": {
    "name": "ipython",
    "version": 3
   },
   "file_extension": ".py",
   "mimetype": "text/x-python",
   "name": "python",
   "nbconvert_exporter": "python",
   "pygments_lexer": "ipython3",
   "version": "3.7.3"
  }
 },
 "nbformat": 4,
 "nbformat_minor": 2
}
